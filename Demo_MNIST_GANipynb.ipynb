{
  "nbformat": 4,
  "nbformat_minor": 0,
  "metadata": {
    "colab": {
      "provenance": [],
      "toc_visible": true
    },
    "kernelspec": {
      "name": "python3",
      "display_name": "Python 3"
    },
    "language_info": {
      "name": "python"
    },
    "widgets": {
      "application/vnd.jupyter.widget-state+json": {
        "17a745dd68d74e69865d5b0257c37866": {
          "model_module": "@jupyter-widgets/controls",
          "model_name": "HBoxModel",
          "state": {
            "_view_name": "HBoxView",
            "_dom_classes": [],
            "_model_name": "HBoxModel",
            "_view_module": "@jupyter-widgets/controls",
            "_model_module_version": "1.5.0",
            "_view_count": null,
            "_view_module_version": "1.5.0",
            "box_style": "",
            "layout": "IPY_MODEL_fdf497b7ac4c45b796917b5f9e784aa4",
            "_model_module": "@jupyter-widgets/controls",
            "children": [
              "IPY_MODEL_abbd6166361149b1a7bb8847829a5865",
              "IPY_MODEL_10bbff4a0262444f94c011cee358d485"
            ]
          },
          "model_module_version": "1.5.0"
        },
        "fdf497b7ac4c45b796917b5f9e784aa4": {
          "model_module": "@jupyter-widgets/base",
          "model_name": "LayoutModel",
          "state": {
            "_view_name": "LayoutView",
            "grid_template_rows": null,
            "right": null,
            "justify_content": null,
            "_view_module": "@jupyter-widgets/base",
            "overflow": null,
            "_model_module_version": "1.2.0",
            "_view_count": null,
            "flex_flow": null,
            "width": null,
            "min_width": null,
            "border": null,
            "align_items": null,
            "bottom": null,
            "_model_module": "@jupyter-widgets/base",
            "top": null,
            "grid_column": null,
            "overflow_y": null,
            "overflow_x": null,
            "grid_auto_flow": null,
            "grid_area": null,
            "grid_template_columns": null,
            "flex": null,
            "_model_name": "LayoutModel",
            "justify_items": null,
            "grid_row": null,
            "max_height": null,
            "align_content": null,
            "visibility": null,
            "align_self": null,
            "height": null,
            "min_height": null,
            "padding": null,
            "grid_auto_rows": null,
            "grid_gap": null,
            "max_width": null,
            "order": null,
            "_view_module_version": "1.2.0",
            "grid_template_areas": null,
            "object_position": null,
            "object_fit": null,
            "grid_auto_columns": null,
            "margin": null,
            "display": null,
            "left": null
          },
          "model_module_version": "1.2.0"
        },
        "abbd6166361149b1a7bb8847829a5865": {
          "model_module": "@jupyter-widgets/controls",
          "model_name": "FloatProgressModel",
          "state": {
            "_view_name": "ProgressView",
            "style": "IPY_MODEL_95a039e9d95c4655a05b61079ad59138",
            "_dom_classes": [],
            "description": "100%",
            "_model_name": "FloatProgressModel",
            "bar_style": "success",
            "max": 500,
            "_view_module": "@jupyter-widgets/controls",
            "_model_module_version": "1.5.0",
            "value": 500,
            "_view_count": null,
            "_view_module_version": "1.5.0",
            "orientation": "horizontal",
            "min": 0,
            "description_tooltip": null,
            "_model_module": "@jupyter-widgets/controls",
            "layout": "IPY_MODEL_55226cffff5b45c185001f01960c35ff"
          },
          "model_module_version": "1.5.0"
        },
        "10bbff4a0262444f94c011cee358d485": {
          "model_module": "@jupyter-widgets/controls",
          "model_name": "HTMLModel",
          "state": {
            "_view_name": "HTMLView",
            "style": "IPY_MODEL_f0041cd8faf645839beef5025458f336",
            "_dom_classes": [],
            "description": "",
            "_model_name": "HTMLModel",
            "placeholder": "​",
            "_view_module": "@jupyter-widgets/controls",
            "_model_module_version": "1.5.0",
            "value": " 500/500 [02:50&lt;00:00,  2.93it/s]",
            "_view_count": null,
            "_view_module_version": "1.5.0",
            "description_tooltip": null,
            "_model_module": "@jupyter-widgets/controls",
            "layout": "IPY_MODEL_044a9ba468084cf281359e02f3c060ff"
          },
          "model_module_version": "1.5.0"
        },
        "95a039e9d95c4655a05b61079ad59138": {
          "model_module": "@jupyter-widgets/controls",
          "model_name": "ProgressStyleModel",
          "state": {
            "_view_name": "StyleView",
            "_model_name": "ProgressStyleModel",
            "description_width": "initial",
            "_view_module": "@jupyter-widgets/base",
            "_model_module_version": "1.5.0",
            "_view_count": null,
            "_view_module_version": "1.2.0",
            "bar_color": null,
            "_model_module": "@jupyter-widgets/controls"
          },
          "model_module_version": "1.5.0"
        },
        "55226cffff5b45c185001f01960c35ff": {
          "model_module": "@jupyter-widgets/base",
          "model_name": "LayoutModel",
          "state": {
            "_view_name": "LayoutView",
            "grid_template_rows": null,
            "right": null,
            "justify_content": null,
            "_view_module": "@jupyter-widgets/base",
            "overflow": null,
            "_model_module_version": "1.2.0",
            "_view_count": null,
            "flex_flow": null,
            "width": null,
            "min_width": null,
            "border": null,
            "align_items": null,
            "bottom": null,
            "_model_module": "@jupyter-widgets/base",
            "top": null,
            "grid_column": null,
            "overflow_y": null,
            "overflow_x": null,
            "grid_auto_flow": null,
            "grid_area": null,
            "grid_template_columns": null,
            "flex": null,
            "_model_name": "LayoutModel",
            "justify_items": null,
            "grid_row": null,
            "max_height": null,
            "align_content": null,
            "visibility": null,
            "align_self": null,
            "height": null,
            "min_height": null,
            "padding": null,
            "grid_auto_rows": null,
            "grid_gap": null,
            "max_width": null,
            "order": null,
            "_view_module_version": "1.2.0",
            "grid_template_areas": null,
            "object_position": null,
            "object_fit": null,
            "grid_auto_columns": null,
            "margin": null,
            "display": null,
            "left": null
          },
          "model_module_version": "1.2.0"
        },
        "f0041cd8faf645839beef5025458f336": {
          "model_module": "@jupyter-widgets/controls",
          "model_name": "DescriptionStyleModel",
          "state": {
            "_view_name": "StyleView",
            "_model_name": "DescriptionStyleModel",
            "description_width": "",
            "_view_module": "@jupyter-widgets/base",
            "_model_module_version": "1.5.0",
            "_view_count": null,
            "_view_module_version": "1.2.0",
            "_model_module": "@jupyter-widgets/controls"
          },
          "model_module_version": "1.5.0"
        },
        "044a9ba468084cf281359e02f3c060ff": {
          "model_module": "@jupyter-widgets/base",
          "model_name": "LayoutModel",
          "state": {
            "_view_name": "LayoutView",
            "grid_template_rows": null,
            "right": null,
            "justify_content": null,
            "_view_module": "@jupyter-widgets/base",
            "overflow": null,
            "_model_module_version": "1.2.0",
            "_view_count": null,
            "flex_flow": null,
            "width": null,
            "min_width": null,
            "border": null,
            "align_items": null,
            "bottom": null,
            "_model_module": "@jupyter-widgets/base",
            "top": null,
            "grid_column": null,
            "overflow_y": null,
            "overflow_x": null,
            "grid_auto_flow": null,
            "grid_area": null,
            "grid_template_columns": null,
            "flex": null,
            "_model_name": "LayoutModel",
            "justify_items": null,
            "grid_row": null,
            "max_height": null,
            "align_content": null,
            "visibility": null,
            "align_self": null,
            "height": null,
            "min_height": null,
            "padding": null,
            "grid_auto_rows": null,
            "grid_gap": null,
            "max_width": null,
            "order": null,
            "_view_module_version": "1.2.0",
            "grid_template_areas": null,
            "object_position": null,
            "object_fit": null,
            "grid_auto_columns": null,
            "margin": null,
            "display": null,
            "left": null
          },
          "model_module_version": "1.2.0"
        }
      }
    }
  },
  "cells": [
    {
      "cell_type": "markdown",
      "metadata": {
        "id": "40ZnGYKZp87f"
      },
      "source": [
        "<h1>Generative Adversarial Network (GAN)</h1>\n",
        "<p>GAN is a framework to make a generative model,it is one branch of the deeplearning.Usualy GAN is used to make generate a image,but there is a lot of other functionality.GAN was first proposed by Ian J. Goodfellow in this <a href = 'https://arxiv.org/abs/1406.2661'>paper</a> , Generative adversial nets.</p>\n",
        "\n",
        "<p>GAN works by transforming a random distribution(usualy normal) to a distribution that have similar distribution with a data(can be anything,but usualy image).GAN Contain 2 neural network that is used for generating the data and discriminating whether a data is real or not</p>\n",
        "\n",
        "<p>here I will try to demonstrate how GAN work by using simple data,MNIST that already used for a lot of things.This dataset contain handwritten number from 0 - 9</p>"
      ]
    },
    {
      "cell_type": "markdown",
      "metadata": {
        "id": "58jEIIAkxk_i"
      },
      "source": [
        "# Import"
      ]
    },
    {
      "cell_type": "code",
      "metadata": {
        "id": "XYtzWOdHxofw"
      },
      "source": [
        "# Deeplearning framework pytorch\n",
        "import torch\n",
        "import torch.nn as nn\n",
        "import torch.nn.functional as F\n",
        "\n",
        "# Dataset we use for this(mnist)\n",
        "from tensorflow.keras.datasets import mnist\n",
        "\n",
        "# Numpy for mathematical operation\n",
        "import numpy as np\n",
        "\n",
        "# matplotlib for visualization\n",
        "import matplotlib.pyplot as plt\n",
        "\n",
        "#progress bar\n",
        "from tqdm import notebook"
      ],
      "execution_count": null,
      "outputs": []
    },
    {
      "cell_type": "markdown",
      "metadata": {
        "id": "o756GH-JxqmB"
      },
      "source": [
        "# Load and Preprocess Data\n"
      ]
    },
    {
      "cell_type": "markdown",
      "metadata": {
        "id": "TeBrMOugzp8g"
      },
      "source": [
        "##Load MNIST Data"
      ]
    },
    {
      "cell_type": "code",
      "metadata": {
        "colab": {
          "base_uri": "https://localhost:8080/"
        },
        "id": "iUisX6fGdswW",
        "outputId": "11037788-4faa-43eb-a196-2da92b48df1b"
      },
      "source": [
        "(x_train,y_train),(x_test,y_test) = mnist.load_data() # Load mnist data"
      ],
      "execution_count": null,
      "outputs": [
        {
          "output_type": "stream",
          "text": [
            "Downloading data from https://storage.googleapis.com/tensorflow/tf-keras-datasets/mnist.npz\n",
            "11493376/11490434 [==============================] - 0s 0us/step\n"
          ],
          "name": "stdout"
        }
      ]
    },
    {
      "cell_type": "code",
      "metadata": {
        "colab": {
          "base_uri": "https://localhost:8080/",
          "height": 282
        },
        "id": "TcUAXuq90OtB",
        "outputId": "d67adbaf-9367-45e3-b325-9812c1913d58"
      },
      "source": [
        "#Dataset Example\n",
        "randSample = np.random.randint(0,len(x_train)) #random int from 0 to dataset length (index)\n",
        "plt.imshow(x_train[randSample],cmap = 'gray') #take data and plot it"
      ],
      "execution_count": null,
      "outputs": [
        {
          "output_type": "execute_result",
          "data": {
            "text/plain": [
              "<matplotlib.image.AxesImage at 0x7f238c750750>"
            ]
          },
          "metadata": {
            "tags": []
          },
          "execution_count": 3
        },
        {
          "output_type": "display_data",
          "data": {
            "image/png": "[encoded data removed]",
            "text/plain": [
              "<Figure size 432x288 with 1 Axes>"
            ]
          },
          "metadata": {
            "tags": [],
            "needs_background": "light"
          }
        }
      ]
    },
    {
      "cell_type": "markdown",
      "metadata": {
        "id": "BpVuXHlMzuQ5"
      },
      "source": [
        "##Preprocess MNIST Data\n",
        "I will only preprocess it a bit by scaling the pixel to [-1,1] interval and reshape the mnist image from 28x28 pixel to 784"
      ]
    },
    {
      "cell_type": "code",
      "metadata": {
        "id": "jaEcelUUdx0c"
      },
      "source": [
        "x_train = x_train/255*2 - 1 # scale to [-1,1]\n",
        "x_train = x_train.reshape(x_train.shape[0],x_train.shape[1]**2) #reshape to 28*28(784)"
      ],
      "execution_count": null,
      "outputs": []
    },
    {
      "cell_type": "markdown",
      "metadata": {
        "id": "xrul9zePzx_Z"
      },
      "source": [
        "# GAN Generator\n",
        "<p>this is the generator network for the GAN,it is used for generating image from random distribution,in math term p(x|z) where x is the data and z is random sample(usualy normal)</p>\n",
        "\n",
        "<p>It work by feeding z into neural network(here I use Multi Layer Perceptron,but it can be Convolutional like <a href = \"https://arxiv.org/abs/1511.06434\">DCGAN) </p>"
      ]
    },
    {
      "cell_type": "code",
      "metadata": {
        "id": "ph9NjahTd__w"
      },
      "source": [
        "# Block for the generator network\n",
        "# the block consist of MLP and batch norm 1D with leaky relu activation.\n",
        "class GeneratorBlock(nn.Module) :\n",
        "  def __init__(self,input_dim,output_dim) :\n",
        "    super(GeneratorBlock,self).__init__()\n",
        "    self.linear = nn.Linear(input_dim,output_dim)\n",
        "    self.BN = nn.BatchNorm1d(output_dim)\n",
        "  def forward(self,xt) :\n",
        "    yt = self.linear(xt)\n",
        "    yt = self.BN(yt)\n",
        "    yt = F.leaky_relu(yt,negative_slope=0.2)\n",
        "    return yt\n",
        "\n",
        "# The Generator class,with tanh as the last layer\n",
        "# to make the image generated the same as preprocessed data\n",
        "# (in range of [-1,1])\n",
        "# Generator consist of 4 layer MLP\n",
        "class Generator(nn.Module) :\n",
        "  def __init__(self,z_dim) :\n",
        "    super(Generator,self).__init__()\n",
        "    self.linear1 = GeneratorBlock(z_dim,1024)\n",
        "    self.linear2 = GeneratorBlock(1024,1024)\n",
        "    self.linear3 = GeneratorBlock(1024,1024)\n",
        "    self.linear4 = nn.Linear(1024,28*28)\n",
        "  def forward(self,z) :\n",
        "    yt = self.linear1(z)\n",
        "    yt = self.linear2(yt)\n",
        "    yt = self.linear3(yt)\n",
        "    yt = torch.tanh(self.linear4(yt))\n",
        "    return yt"
      ],
      "execution_count": null,
      "outputs": []
    },
    {
      "cell_type": "markdown",
      "metadata": {
        "id": "T-Kg6asjSPFC"
      },
      "source": [
        "# GAN Discriminator\n",
        "<p>this is the Discriminator network in GAN,it is used to distinguish beetween real and fake image(the image generated by Generator network above from random distribution z.)</p>\n",
        "\n",
        "<p>Discriminator network output the probability beetween 0 - 1,probability 1 means it is real,and 0 mean it is fake.</p>"
      ]
    },
    {
      "cell_type": "code",
      "metadata": {
        "id": "ETMVUNYwfe1m"
      },
      "source": [
        "# Block for the discriminator network\n",
        "# the block consist of MLP and batch norm 1D with leaky relu activation.\n",
        "class DiscriminatorBlock(nn.Module) :\n",
        "  def __init__(self,input_dim,output_dim) :\n",
        "    super(DiscriminatorBlock,self).__init__()\n",
        "    self.linear = nn.Linear(input_dim,output_dim)\n",
        "    self.BN = nn.BatchNorm1d(output_dim)\n",
        "  def forward(self,xt) :\n",
        "    yt = self.linear(xt)\n",
        "    yt = self.BN(yt)\n",
        "    yt = F.leaky_relu(yt,negative_slope=0.2)\n",
        "    return yt\n",
        "\n",
        "# The Discriminator class,with sigmoid as the last layer\n",
        "# sigmoid make a image into number\n",
        "# (in range of [0,1])\n",
        "# Generator consist of 4 layer MLP\n",
        "class Discriminator(nn.Module) :\n",
        "  def __init__(self) :\n",
        "    super(Discriminator,self).__init__()\n",
        "    self.linear1 = nn.Linear(28*28,1024)\n",
        "    self.linear2 = GeneratorBlock(1024,1024)\n",
        "    self.linear3 = GeneratorBlock(1024,1024)\n",
        "    self.linear4 = nn.Linear(1024,1)\n",
        "  def forward(self,z) :\n",
        "    yt = F.leaky_relu(self.linear1(z),negative_slope = 0.2)\n",
        "    yt = self.linear2(yt)\n",
        "    yt = self.linear3(yt)\n",
        "    yt = torch.sigmoid(self.linear4(yt))\n",
        "    return yt"
      ],
      "execution_count": null,
      "outputs": []
    },
    {
      "cell_type": "code",
      "metadata": {
        "colab": {
          "base_uri": "https://localhost:8080/"
        },
        "id": "dun8sZcveOgg",
        "outputId": "e94d2522-539a-4a77-c572-3483ca22a264"
      },
      "source": [
        "z_dim = 64 # dimension of z (random number)\n",
        "discriminator = Discriminator()\n",
        "generator = Generator(z_dim)\n",
        "print(\"###################### Discriminator Architecture ######################\")\n",
        "print(discriminator)\n",
        "print(\"######################## Generator Architecture ########################\")\n",
        "print(generator)"
      ],
      "execution_count": null,
      "outputs": [
        {
          "output_type": "stream",
          "text": [
            "###################### Discriminator Architecture ######################\n",
            "Discriminator(\n",
            "  (linear1): Linear(in_features=784, out_features=1024, bias=True)\n",
            "  (linear2): GeneratorBlock(\n",
            "    (linear): Linear(in_features=1024, out_features=1024, bias=True)\n",
            "    (BN): BatchNorm1d(1024, eps=1e-05, momentum=0.1, affine=True, track_running_stats=True)\n",
            "  )\n",
            "  (linear3): GeneratorBlock(\n",
            "    (linear): Linear(in_features=1024, out_features=1024, bias=True)\n",
            "    (BN): BatchNorm1d(1024, eps=1e-05, momentum=0.1, affine=True, track_running_stats=True)\n",
            "  )\n",
            "  (linear4): Linear(in_features=1024, out_features=1, bias=True)\n",
            ")\n",
            "######################## Generator Architecture ########################\n",
            "Generator(\n",
            "  (linear1): GeneratorBlock(\n",
            "    (linear): Linear(in_features=64, out_features=1024, bias=True)\n",
            "    (BN): BatchNorm1d(1024, eps=1e-05, momentum=0.1, affine=True, track_running_stats=True)\n",
            "  )\n",
            "  (linear2): GeneratorBlock(\n",
            "    (linear): Linear(in_features=1024, out_features=1024, bias=True)\n",
            "    (BN): BatchNorm1d(1024, eps=1e-05, momentum=0.1, affine=True, track_running_stats=True)\n",
            "  )\n",
            "  (linear3): GeneratorBlock(\n",
            "    (linear): Linear(in_features=1024, out_features=1024, bias=True)\n",
            "    (BN): BatchNorm1d(1024, eps=1e-05, momentum=0.1, affine=True, track_running_stats=True)\n",
            "  )\n",
            "  (linear4): Linear(in_features=1024, out_features=784, bias=True)\n",
            ")\n"
          ],
          "name": "stdout"
        }
      ]
    },
    {
      "cell_type": "markdown",
      "metadata": {
        "id": "zjAJKpX9TXpA"
      },
      "source": [
        "# Training GAN\n",
        "<p>GAN is trained alternately beetween discrimator and generator.first it train discriminator for 1 or more mini batches and it train the generator for 1 mini batch.</p>\n",
        "\n",
        "<p>The discriminator objective is to maximize the loss function used for gan training. The update rule for the discriminator loss function is shown bellow :</p>\n",
        "<img src = 'https://lh4.googleusercontent.com/yAT4vN1GFT8D0QUDMAReZS0BLD_vi7KZc-AE02RFWI9ZVSQHLqKTTthtgx_BK-DlKOeFDgtkA3byl9VMHPEI0r5ZTn1nKYLbeEflJuspuykXcNMOmEmXomWZzMwdzUBbxf-BlkjJ' </img>\n",
        "\n",
        "<p>This formula is named binary cross entropy. it is minimized when the model can distinguish real and fake class.</p>\n",
        "\n",
        "<p>After updating the generator we update the generator using the formula bellow,in the direction of steepest descent(minimize) : </p>\n",
        "\n",
        "<img src = \"https://static.packt-cdn.com/products/9781789139907/graphics/5d7ed5b7-0c10-4f09-bcbb-0585b65db52c.png\">\n",
        "<p>In practice, equation above may not provide sufficient gradient for G to learn well. Early in learning,\n",
        "when G is poor, D can reject samples with high confidence because they are clearly different from\n",
        "the training data. In this case, log(1 − D(G(z))) saturates.\n",
        "Rather than training G to minimize log(1 − D(G(z))) we can train G to maximize log D(G(z)).</p>\n",
        "//statement above quoted from original paper <a href = \"https://arxiv.org/abs/1406.2661\">here</a>.\n",
        "\n",
        "I will use the <a href = https://arxiv.org/abs/1412.6980>Adam</a> optimizer for the gradient update.\n",
        "\n"
      ]
    },
    {
      "cell_type": "code",
      "metadata": {
        "id": "xEgOZNQ0idIW"
      },
      "source": [
        "disOptim = torch.optim.Adam(discriminator.parameters(),2e-4,betas =(0.5,0.999))\n",
        "genOptim = torch.optim.Adam(generator.parameters(),2e-4,betas =(0.5,0.999))"
      ],
      "execution_count": null,
      "outputs": []
    },
    {
      "cell_type": "code",
      "metadata": {
        "colab": {
          "base_uri": "https://localhost:8080/",
          "height": 1000,
          "referenced_widgets": [
            "17a745dd68d74e69865d5b0257c37866",
            "fdf497b7ac4c45b796917b5f9e784aa4",
            "abbd6166361149b1a7bb8847829a5865",
            "10bbff4a0262444f94c011cee358d485",
            "95a039e9d95c4655a05b61079ad59138",
            "55226cffff5b45c185001f01960c35ff",
            "f0041cd8faf645839beef5025458f336",
            "044a9ba468084cf281359e02f3c060ff"
          ]
        },
        "id": "x4YS-zaXeTWn",
        "outputId": "d0911d67-515d-4372-9509-ff248b5112a4"
      },
      "source": [
        "#make generator and discriminator to train mode.\n",
        "generator.train()\n",
        "discriminator.train()\n",
        "\n",
        "mini_batch_num = 1000 # how many mini batch the training will go?\n",
        "mini_batch_size = 128 # Number of mini batch\n",
        "\n",
        "k_step = 1 # Number of discriminator update for every mini_batch\n",
        "for i in notebook.tqdm(range(mini_batch_num)) :\n",
        "  #################### Discriminator Update ####################\n",
        "  for k in range(k_step) :\n",
        "    disOptim.zero_grad()\n",
        "\n",
        "    z = torch.normal(0,1,size = (mini_batch_size,z_dim))\n",
        "    randIdx = np.random.randint(0,len(x_train),size=mini_batch_size)\n",
        "\n",
        "    real = x_train[randIdx]\n",
        "    real = torch.as_tensor(real).float()\n",
        "\n",
        "    fake = generator.forward(z)\n",
        "\n",
        "    realPred = discriminator.forward(real)\n",
        "    fakePred = discriminator.forward(fake)\n",
        "\n",
        "    discriminatorLoss = torch.log(realPred) + torch.log(1 - fakePred)\n",
        "    discriminatorLoss = -torch.mean(discriminatorLoss)\n",
        "\n",
        "    discriminatorLoss.backward()\n",
        "    disOptim.step()\n",
        "  #################### Generator Update ####################\n",
        "  genOptim.zero_grad()\n",
        "  z = torch.normal(0,1,size = (mini_batch_size,z_dim))\n",
        "  fake = generator.forward(z)\n",
        "  fakePred = discriminator.forward(fake)\n",
        "  #generatorLoss = torch.mean(torch.log(1 - fakePred))\n",
        "  generatorLoss = -torch.mean(torch.log(fakePred))\n",
        "  generatorLoss.backward()\n",
        "  genOptim.step()\n",
        "\n",
        "  if i % 25 == 0 :\n",
        "    print(\"iteration :\",i,\"/\",mini_batch_num)\n",
        "    plt.imshow((fake[0].detach().numpy().reshape(28,28) + 1)/2,cmap = 'gray')\n",
        "    plt.show()\n",
        ""
      ],
      "execution_count": null,
      "outputs": [
        {
          "output_type": "display_data",
          "data": {
            "application/vnd.jupyter.widget-view+json": {
              "model_id": "17a745dd68d74e69865d5b0257c37866",
              "version_minor": 0,
              "version_major": 2
            },
            "text/plain": [
              "HBox(children=(FloatProgress(value=0.0, max=500.0), HTML(value='')))"
            ]
          },
          "metadata": {
            "tags": []
          }
        },
        {
          "output_type": "stream",
          "text": [
            "iteration : 0 / 500\n"
          ],
          "name": "stdout"
        },
        {
          "output_type": "display_data",
          "data": {
            "image/png": "[encoded data removed]",
            "text/plain": [
              "<Figure size 432x288 with 1 Axes>"
            ]
          },
          "metadata": {
            "tags": [],
            "needs_background": "light"
          }
        },
        {
          "output_type": "stream",
          "text": [
            "iteration : 25 / 500\n"
          ],
          "name": "stdout"
        },
        {
          "output_type": "display_data",
          "data": {
            "image/png": "[encoded data removed]",
            "text/plain": [
              "<Figure size 432x288 with 1 Axes>"
            ]
          },
          "metadata": {
            "tags": [],
            "needs_background": "light"
          }
        },
        {
          "output_type": "stream",
          "text": [
            "iteration : 50 / 500\n"
          ],
          "name": "stdout"
        },
        {
          "output_type": "display_data",
          "data": {
            "image/png": "[encoded data removed]",
            "text/plain": [
              "<Figure size 432x288 with 1 Axes>"
            ]
          },
          "metadata": {
            "tags": [],
            "needs_background": "light"
          }
        },
        {
          "output_type": "stream",
          "text": [
            "iteration : 75 / 500\n"
          ],
          "name": "stdout"
        },
        {
          "output_type": "display_data",
          "data": {
            "image/png": "[encoded data removed]",
            "text/plain": [
              "<Figure size 432x288 with 1 Axes>"
            ]
          },
          "metadata": {
            "tags": [],
            "needs_background": "light"
          }
        },
        {
          "output_type": "stream",
          "text": [
            "iteration : 100 / 500\n"
          ],
          "name": "stdout"
        },
        {
          "output_type": "display_data",
          "data": {
            "image/png": "[encoded data removed]",
            "text/plain": [
              "<Figure size 432x288 with 1 Axes>"
            ]
          },
          "metadata": {
            "tags": [],
            "needs_background": "light"
          }
        },
        {
          "output_type": "stream",
          "text": [
            "iteration : 125 / 500\n"
          ],
          "name": "stdout"
        },
        {
          "output_type": "display_data",
          "data": {
            "image/png": "[encoded data removed]",
            "text/plain": [
              "<Figure size 432x288 with 1 Axes>"
            ]
          },
          "metadata": {
            "tags": [],
            "needs_background": "light"
          }
        },
        {
          "output_type": "stream",
          "text": [
            "iteration : 150 / 500\n"
          ],
          "name": "stdout"
        },
        {
          "output_type": "display_data",
          "data": {
            "image/png": "[encoded data removed]",
            "text/plain": [
              "<Figure size 432x288 with 1 Axes>"
            ]
          },
          "metadata": {
            "tags": [],
            "needs_background": "light"
          }
        },
        {
          "output_type": "stream",
          "text": [
            "iteration : 175 / 500\n"
          ],
          "name": "stdout"
        },
        {
          "output_type": "display_data",
          "data": {
            "image/png": "[encoded data removed]",
            "text/plain": [
              "<Figure size 432x288 with 1 Axes>"
            ]
          },
          "metadata": {
            "tags": [],
            "needs_background": "light"
          }
        },
        {
          "output_type": "stream",
          "text": [
            "iteration : 200 / 500\n"
          ],
          "name": "stdout"
        },
        {
          "output_type": "display_data",
          "data": {
            "image/png": "[encoded data removed]",
            "text/plain": [
              "<Figure size 432x288 with 1 Axes>"
            ]
          },
          "metadata": {
            "tags": [],
            "needs_background": "light"
          }
        },
        {
          "output_type": "stream",
          "text": [
            "iteration : 225 / 500\n"
          ],
          "name": "stdout"
        },
        {
          "output_type": "display_data",
          "data": {
            "image/png": "[encoded data removed]",
            "text/plain": [
              "<Figure size 432x288 with 1 Axes>"
            ]
          },
          "metadata": {
            "tags": [],
            "needs_background": "light"
          }
        },
        {
          "output_type": "stream",
          "text": [
            "iteration : 250 / 500\n"
          ],
          "name": "stdout"
        },
        {
          "output_type": "display_data",
          "data": {
            "image/png": "[encoded data removed]",
            "text/plain": [
              "<Figure size 432x288 with 1 Axes>"
            ]
          },
          "metadata": {
            "tags": [],
            "needs_background": "light"
          }
        },
        {
          "output_type": "stream",
          "text": [
            "iteration : 275 / 500\n"
          ],
          "name": "stdout"
        },
        {
          "output_type": "display_data",
          "data": {
            "image/png": "[encoded data removed]",
            "text/plain": [
              "<Figure size 432x288 with 1 Axes>"
            ]
          },
          "metadata": {
            "tags": [],
            "needs_background": "light"
          }
        },
        {
          "output_type": "stream",
          "text": [
            "iteration : 300 / 500\n"
          ],
          "name": "stdout"
        },
        {
          "output_type": "display_data",
          "data": {
            "image/png": "[encoded data removed]",
            "text/plain": [
              "<Figure size 432x288 with 1 Axes>"
            ]
          },
          "metadata": {
            "tags": [],
            "needs_background": "light"
          }
        },
        {
          "output_type": "stream",
          "text": [
            "iteration : 325 / 500\n"
          ],
          "name": "stdout"
        },
        {
          "output_type": "display_data",
          "data": {
            "image/png": "[encoded data removed]",
            "text/plain": [
              "<Figure size 432x288 with 1 Axes>"
            ]
          },
          "metadata": {
            "tags": [],
            "needs_background": "light"
          }
        },
        {
          "output_type": "stream",
          "text": [
            "iteration : 350 / 500\n"
          ],
          "name": "stdout"
        },
        {
          "output_type": "display_data",
          "data": {
            "image/png": "[encoded data removed]",
            "text/plain": [
              "<Figure size 432x288 with 1 Axes>"
            ]
          },
          "metadata": {
            "tags": [],
            "needs_background": "light"
          }
        },
        {
          "output_type": "stream",
          "text": [
            "iteration : 375 / 500\n"
          ],
          "name": "stdout"
        },
        {
          "output_type": "display_data",
          "data": {
            "image/png": "[encoded data removed]",
            "text/plain": [
              "<Figure size 432x288 with 1 Axes>"
            ]
          },
          "metadata": {
            "tags": [],
            "needs_background": "light"
          }
        },
        {
          "output_type": "stream",
          "text": [
            "iteration : 400 / 500\n"
          ],
          "name": "stdout"
        },
        {
          "output_type": "display_data",
          "data": {
            "image/png": "[encoded data removed]",
            "text/plain": [
              "<Figure size 432x288 with 1 Axes>"
            ]
          },
          "metadata": {
            "tags": [],
            "needs_background": "light"
          }
        },
        {
          "output_type": "stream",
          "text": [
            "iteration : 425 / 500\n"
          ],
          "name": "stdout"
        },
        {
          "output_type": "display_data",
          "data": {
            "image/png": "[encoded data removed]",
            "text/plain": [
              "<Figure size 432x288 with 1 Axes>"
            ]
          },
          "metadata": {
            "tags": [],
            "needs_background": "light"
          }
        },
        {
          "output_type": "stream",
          "text": [
            "iteration : 450 / 500\n"
          ],
          "name": "stdout"
        },
        {
          "output_type": "display_data",
          "data": {
            "image/png": "[encoded data removed]",
            "text/plain": [
              "<Figure size 432x288 with 1 Axes>"
            ]
          },
          "metadata": {
            "tags": [],
            "needs_background": "light"
          }
        },
        {
          "output_type": "stream",
          "text": [
            "iteration : 475 / 500\n"
          ],
          "name": "stdout"
        },
        {
          "output_type": "display_data",
          "data": {
            "image/png": "[encoded data removed]",
            "text/plain": [
              "<Figure size 432x288 with 1 Axes>"
            ]
          },
          "metadata": {
            "tags": [],
            "needs_background": "light"
          }
        },
        {
          "output_type": "stream",
          "text": [
            "\n"
          ],
          "name": "stdout"
        }
      ]
    },
    {
      "cell_type": "markdown",
      "metadata": {
        "id": "APi9-yqmTb5T"
      },
      "source": [
        "# Sample Image"
      ]
    },
    {
      "cell_type": "code",
      "metadata": {
        "colab": {
          "base_uri": "https://localhost:8080/",
          "height": 282
        },
        "id": "0LvoytXBkf_0",
        "outputId": "cf570216-ce69-48eb-aa67-11c7814ac2af"
      },
      "source": [
        "generator.eval()\n",
        "z = torch.normal(0,1,size = (1,z_dim))\n",
        "img = generator.forward(z)\n",
        "plt.imshow((img[0].detach().numpy().reshape(28,28) + 1)/2,cmap = 'gray')"
      ],
      "execution_count": null,
      "outputs": [
        {
          "output_type": "execute_result",
          "data": {
            "text/plain": [
              "<matplotlib.image.AxesImage at 0x7f2387a23890>"
            ]
          },
          "metadata": {
            "tags": []
          },
          "execution_count": 53
        },
        {
          "output_type": "display_data",
          "data": {
            "image/png": "[encoded data removed]",
            "text/plain": [
              "<Figure size 432x288 with 1 Axes>"
            ]
          },
          "metadata": {
            "tags": [],
            "needs_background": "light"
          }
        }
      ]
    },
    {
      "cell_type": "markdown",
      "metadata": {
        "id": "-6mKnYtbQIx9"
      },
      "source": [
        "# References and more resource"
      ]
    },
    {
      "cell_type": "markdown",
      "metadata": {
        "id": "7vmzGxGpTPhU"
      },
      "source": [
        "##Reference\n",
        "<ul>\n",
        "<li><a href = \"https://arxiv.org/abs/1406.2661\">Generative Adcersarial Nets</a></li>\n",
        "<li><a href = \"https://arxiv.org/abs/1511.06434\">Unsupervised Representation Learning with Deep Convolutional Generative Adversarial Networks</a></li>\n",
        "<li><a href = \"https://arxiv.org/abs/1412.6980\">Adam: A Method for Stochastic Optimization</a></li>\n",
        "\n",
        "\n",
        "</ul>"
      ]
    },
    {
      "cell_type": "markdown",
      "metadata": {
        "id": "RrALvWrNTyOg"
      },
      "source": [
        "## More Resource\n",
        "<p>More powerful GAN</p>\n",
        "<ul>\n",
        "<li><a href = \"https://arxiv.org/abs/1701.07875\">Wasserstein GAN</a></li>\n",
        "<li><a href = \"https://arxiv.org/abs/1710.10196\">Progressive Growing of GANs for Improved Quality, Stability, and Variation</a></li>\n",
        "<li><a href = \"https://arxiv.org/abs/1812.04948\">A Style-Based Generator Architecture for Generative Adversarial Networks</a></li>\n",
        "<li><a href= \"https://arxiv.org/abs/1809.11096\">Large Scale GAN Training for High Fidelity Natural Image Synthesis</a></li>\n",
        "</ul>\n",
        "\n",
        "<p>GAN for representation learning(unsupervised feature learning)</p>\n",
        "\n",
        "<ul>\n",
        "<li><a href = \"https://arxiv.org/abs/1605.09782\">Adversarial Feature Learning</a></li>\n",
        "<li><a href = \"https://arxiv.org/abs/1907.02544\">Large Scale Adversarial Representation Learning</a></li>\n",
        "</ul>\n",
        "\n",
        "And there is a lot more :)\n",
        "\n",
        "If you want to know more about GAN i reccomend this <a href = \"https://www.coursera.org/specializations/generative-adversarial-networks-gans\">course</a> from coursera\n"
      ]
    },
    {
      "cell_type": "markdown",
      "metadata": {
        "id": "saenEON2Uibp"
      },
      "source": [
        "<h1>Thank You Very Much</h1>"
      ]
    }
  ]
}